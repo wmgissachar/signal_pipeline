{
 "cells": [
  {
   "cell_type": "code",
   "execution_count": 1,
   "id": "8d25fb86-03a1-43f0-84b7-9c7d2060713d",
   "metadata": {
    "tags": []
   },
   "outputs": [],
   "source": [
    "from MetricRefresh import IncrementalICCalculator, IncrementalMonotonic, IncrementalMI, IncrementalFvalue, OscillationFromSpread, SpreadReturns\n",
    "from Database import Database\n",
    "from GetSignal import GetSignal"
   ]
  },
  {
   "cell_type": "code",
   "execution_count": 2,
   "id": "04ac1d5c-1664-4b23-b831-dd37c1a19b55",
   "metadata": {
    "tags": []
   },
   "outputs": [],
   "source": [
    "from google.cloud import bigquery\n",
    "\n",
    "def get_unique_signals_from_gbq(project_id='issachar-feature-library', \n",
    "                                     dataset_name='wmg', \n",
    "                                     table_name='signal_lookup'):\n",
    "    \"\"\"\n",
    "    Fetch all unique signal values from the 'signal' column in the daily_ic table.\n",
    "    \n",
    "    Args:\n",
    "        project_id (str): The Google Cloud project ID.\n",
    "        dataset_name (str): The BigQuery dataset name.\n",
    "        table_name (str): The BigQuery table name containing the daily IC results.\n",
    "    \n",
    "    Returns:\n",
    "        list: A list of unique signal names.\n",
    "    \"\"\"\n",
    "    # Create a BigQuery client.\n",
    "    client = bigquery.Client(project=project_id)\n",
    "    \n",
    "    # Construct the query to select distinct signals.\n",
    "    query = f\"\"\"\n",
    "    SELECT DISTINCT signal_name\n",
    "    FROM `{project_id}.{dataset_name}.{table_name}`\n",
    "    WHERE signal_type != 'neither'\n",
    "    \"\"\"\n",
    "    \n",
    "    # Execute the query.\n",
    "    query_job = client.query(query)\n",
    "    \n",
    "    # Convert the result to a pandas DataFrame.\n",
    "    df = query_job.to_dataframe()\n",
    "    \n",
    "    # Return the unique signals as a list.\n",
    "    return df['signal_name'].unique().tolist()"
   ]
  },
  {
   "cell_type": "code",
   "execution_count": 3,
   "id": "b6e5fac7-a9aa-45af-88b6-77d29f4d8243",
   "metadata": {
    "tags": []
   },
   "outputs": [
    {
     "data": {
      "text/plain": [
       "['adlr_21d',\n",
       " 'ptx_est_rev_180d',\n",
       " 'buyer_pos_12m',\n",
       " 'insider_ssells_3m',\n",
       " 'seller_chge_6m']"
      ]
     },
     "execution_count": 3,
     "metadata": {},
     "output_type": "execute_result"
    }
   ],
   "source": [
    "# Pull all signals from GBQ\n",
    "all_signals = get_unique_signals_from_gbq()\n",
    "all_signals[:5]"
   ]
  },
  {
   "cell_type": "code",
   "execution_count": 4,
   "id": "1179c89f-2824-4089-b8f4-d6f294bc4245",
   "metadata": {
    "tags": []
   },
   "outputs": [],
   "source": [
    "# 1) Create Database\n",
    "db = Database(project_id=\"issachar-feature-library\")\n",
    "\n",
    "# 2) Create GetSignal\n",
    "get_signal = GetSignal(db=db)"
   ]
  },
  {
   "cell_type": "code",
   "execution_count": 6,
   "id": "229c3bed-cce1-4fb6-86a8-79567bfdeec4",
   "metadata": {
    "tags": []
   },
   "outputs": [],
   "source": [
    "for signal_name in tqdm(all_signals):\n",
    "\n",
    "    # Create IncrementalICCalculator\n",
    "    ic_calc = IncrementalICCalculator(\n",
    "        db=db, \n",
    "        get_signal=get_signal, \n",
    "        project_id=\"issachar-feature-library\",\n",
    "        wmg_dataset=\"wmg\",\n",
    "        returns_table=\"t1_returns\",\n",
    "        daily_ic2_table=\"daily_ic2\"\n",
    "    )\n",
    "\n",
    "    # Compute incremental IC\n",
    "    ic_calc.run(signal_name, rank_signal=True, refresh_data = False)    \n",
    "\n",
    "    # Compute Incremental monotonicity\n",
    "    mon_calc = IncrementalMonotonic(\n",
    "        db=db,\n",
    "        get_signal=get_signal,\n",
    "        project_id=\"issachar-feature-library\",\n",
    "        wmg_dataset=\"wmg\",\n",
    "        returns_table=\"t1_returns\",\n",
    "        monotonic_table=\"daily_rolling_monotonic_pct_st\"\n",
    "    )\n",
    "    mon_calc.run(signal_name, refresh_data = False)\n",
    "\n",
    "    # Create IncrementalMI\n",
    "    mi_calc = IncrementalMI(\n",
    "        db=db,\n",
    "        get_signal=get_signal,\n",
    "        project_id=\"issachar-feature-library\",\n",
    "        wmg_dataset=\"wmg\",\n",
    "        returns_table=\"t1_returns\",\n",
    "        table_daily_mi=\"mi_daily\",\n",
    "        table_rolling_mi=\"mi_rolling\",\n",
    "        window_size=42\n",
    "    )\n",
    "\n",
    "    # Compute incremental MI for a single signal\n",
    "    mi_calc.run(signal_name, refresh_data = False)    \n",
    "    \n",
    "\n",
    "    # Fvalue related stats \n",
    "    fval_calc = IncrementalFvalue(\n",
    "        db=db,\n",
    "        get_signal=get_signal,\n",
    "        project_id=\"issachar-feature-library\",\n",
    "        wmg_dataset=\"wmg\",\n",
    "        returns_table=\"t1_returns\",\n",
    "        table_daily_fval=\"daily_fvalues\",\n",
    "        table_rolling_fval=\"daily_fvalue_interactions\"  # if you want the name from snippet\n",
    "    )\n",
    "\n",
    "    fval_calc.run(signal_name, refresh_data=False)    \n",
    "    \n",
    "    # Calc spread returns\n",
    "    spread_calc = SpreadReturns(\n",
    "        db=db,                 # your Database instance\n",
    "        get_signal=get_signal, # your GetSignal instance\n",
    "        project_id=\"issachar-feature-library\",\n",
    "        wmg_dataset=\"wmg\",\n",
    "        daily_spread_table=\"daily_spread_returns\",  # The BQ table to store final results\n",
    "        returns_table=\"t1_returns\"                  # Where we get t1_returns\n",
    "    )\n",
    "\n",
    "    spread_calc.run(signal_name, refresh_data=False)  \n",
    "    \n",
    "\n",
    "    # Calc oscillation metrics\n",
    "    osc_calc = OscillationFromSpread(\n",
    "        project_id=\"issachar-feature-library\",\n",
    "        dataset_name=\"wmg\",\n",
    "        daily_spread_table=\"daily_spread_returns\",\n",
    "        oscillation_table=\"daily_oscillations_90d\"\n",
    "    )\n",
    "\n",
    "    # Suppose we want to do \"accel_21d\" with daily_spread\n",
    "    osc_calc.run(signal_name)"
   ]
  },
  {
   "cell_type": "code",
   "execution_count": null,
   "id": "2e36a9c7-914c-41ba-98b1-862b131f3df9",
   "metadata": {},
   "outputs": [],
   "source": []
  },
  {
   "cell_type": "code",
   "execution_count": null,
   "id": "993b757f-15e6-4f3f-ac4c-cb335a7a7956",
   "metadata": {},
   "outputs": [],
   "source": []
  },
  {
   "cell_type": "code",
   "execution_count": null,
   "id": "e57e140c-920b-4b40-97e3-8c57ba98ef16",
   "metadata": {
    "tags": []
   },
   "outputs": [],
   "source": []
  },
  {
   "cell_type": "code",
   "execution_count": null,
   "id": "8d157daa-9a7a-4bb5-b6d1-3903c488082c",
   "metadata": {},
   "outputs": [],
   "source": []
  },
  {
   "cell_type": "code",
   "execution_count": null,
   "id": "a7073526-f8f7-4bbc-8533-eb342ad596c2",
   "metadata": {},
   "outputs": [],
   "source": []
  },
  {
   "cell_type": "code",
   "execution_count": null,
   "id": "82c596d9-b7cd-45ed-85b3-b705d437e8d3",
   "metadata": {
    "tags": []
   },
   "outputs": [],
   "source": []
  },
  {
   "cell_type": "code",
   "execution_count": null,
   "id": "8d945cee-8214-4a1e-b10b-ba76ddfd5d60",
   "metadata": {},
   "outputs": [],
   "source": []
  },
  {
   "cell_type": "code",
   "execution_count": null,
   "id": "db64ff48-07c3-4c53-b26b-c76cc04a4aa2",
   "metadata": {},
   "outputs": [],
   "source": []
  },
  {
   "cell_type": "markdown",
   "id": "cf244ca8-42cd-4f8c-9377-1bdafc746f9a",
   "metadata": {},
   "source": [
    "## Scratch code from testing"
   ]
  },
  {
   "cell_type": "code",
   "execution_count": null,
   "id": "a421bd3f-d51b-4ab6-a212-a20be57154a7",
   "metadata": {
    "tags": []
   },
   "outputs": [],
   "source": [
    "# from google.cloud import bigquery\n",
    "\n",
    "# def fetch_ic2_after_sep1_2024(db, signal_name: str) -> None:\n",
    "#     \"\"\"\n",
    "#     Fetch rows from daily_ic2 for the given signal_name\n",
    "#     where date > '2024-09-01'.\n",
    "#     Print the results or return them as a DataFrame.\n",
    "#     \"\"\"\n",
    "#     client = bigquery.Client(project=db.project_id)\n",
    "    \n",
    "#     query = \"\"\"\n",
    "#     SELECT date,\n",
    "#            all_IC, all_tstat, all_pvalue, all_fstat,\n",
    "#            all_IC_spearmanr, all_pvalue_spearmanr,\n",
    "#            topq_IC, topq_tstat, topq_pvalue, topq_fstat,\n",
    "#            topq_IC_spearmanr, topq_pvalue_spearmanr,\n",
    "#            signal\n",
    "#     FROM `issachar-feature-library.wmg.daily_ic2`\n",
    "#     WHERE signal = @signal\n",
    "#       AND date > @cutoff_date\n",
    "#     \"\"\"\n",
    "    \n",
    "#     job_config = bigquery.QueryJobConfig(\n",
    "#         query_parameters=[\n",
    "#             bigquery.ScalarQueryParameter(\"signal\", \"STRING\", signal_name),\n",
    "#             # If your table's date column is TIMESTAMP, pass TIMESTAMP here.\n",
    "#             # If it's DATETIME, pass DATETIME. We'll assume TIMESTAMP below:\n",
    "#             bigquery.ScalarQueryParameter(\"cutoff_date\", \"DATE\", \"2024-09-01\")\n",
    "#         ]\n",
    "#     )\n",
    "    \n",
    "#     df = client.query(query, job_config=job_config).to_dataframe()\n",
    "#     print(f\"Fetched {len(df)} rows for signal='{signal_name}' with date > 2024-09-01.\")\n",
    "#     print(df.head(10))  # Example: print first 10 rows\n",
    "\n",
    "\n",
    "# df_ic = fetch_ic2_after_sep1_2024(db, \"daysToCover30Day\")\n",
    "# df_ic"
   ]
  },
  {
   "cell_type": "code",
   "execution_count": null,
   "id": "13a63295-55dc-42d0-9916-085bd87ca97e",
   "metadata": {},
   "outputs": [],
   "source": []
  },
  {
   "cell_type": "code",
   "execution_count": null,
   "id": "e7526416-7ff9-479e-b836-975d3836f53a",
   "metadata": {},
   "outputs": [],
   "source": []
  },
  {
   "cell_type": "code",
   "execution_count": null,
   "id": "0c3b1fb8-41ea-4f15-834f-818e33cc353c",
   "metadata": {
    "tags": []
   },
   "outputs": [],
   "source": [
    "# GetSignal(db).run(signal_name, end_date = None)"
   ]
  },
  {
   "cell_type": "code",
   "execution_count": null,
   "id": "0b02f82f-fe4e-4cbc-b9b6-85ee09da75ea",
   "metadata": {
    "tags": []
   },
   "outputs": [],
   "source": [
    "# ic_calc._get_daily_ic2_minmax_date(signal_name)"
   ]
  },
  {
   "cell_type": "code",
   "execution_count": null,
   "id": "6f9d9f04-0cd8-4868-ba29-f4d6d7f3917f",
   "metadata": {
    "tags": []
   },
   "outputs": [],
   "source": [
    "# from google.cloud import bigquery\n",
    "\n",
    "# def delete_daily_ic2_for_daysToCover30Day():\n",
    "#     \"\"\"\n",
    "#     Deletes rows in 'issachar-feature-library.wmg.daily_ic2' \n",
    "#     where signal='daysToCover30Day' AND date > '2024-09-01'.\n",
    "#     \"\"\"\n",
    "#     client = bigquery.Client(project=\"issachar-feature-library\")\n",
    "\n",
    "#     query = \"\"\"\n",
    "#     DELETE FROM `issachar-feature-library.wmg.daily_oscillations_90d`\n",
    "#     WHERE signal = @sig\n",
    "#       AND DATE(date) > @cutoff_date\n",
    "#     \"\"\"\n",
    "#     job_config = bigquery.QueryJobConfig(\n",
    "#         query_parameters=[\n",
    "#             bigquery.ScalarQueryParameter(\"sig\", \"STRING\", \"daysToCover30Day\"),\n",
    "#             bigquery.ScalarQueryParameter(\"cutoff_date\", \"DATE\", \"2024-09-01\"),\n",
    "#         ]\n",
    "#     )\n",
    "\n",
    "#     client.query(query, job_config=job_config).result()\n",
    "#     print(\"Rows deleted for 'daysToCover30Day' in daily_ic2 after 2024-09-01.\")\n",
    "\n",
    "# # Usage example:\n",
    "# delete_daily_ic2_for_daysToCover30Day()\n"
   ]
  },
  {
   "cell_type": "code",
   "execution_count": null,
   "id": "6abbecce-adb1-432b-bf7f-f161620a7c01",
   "metadata": {},
   "outputs": [],
   "source": []
  }
 ],
 "metadata": {
  "environment": {
   "kernel": "conda-base-py",
   "name": "workbench-notebooks.m126",
   "type": "gcloud",
   "uri": "us-docker.pkg.dev/deeplearning-platform-release/gcr.io/workbench-notebooks:m126"
  },
  "kernelspec": {
   "display_name": "Python 3 (ipykernel) (Local)",
   "language": "python",
   "name": "conda-base-py"
  },
  "language_info": {
   "codemirror_mode": {
    "name": "ipython",
    "version": 3
   },
   "file_extension": ".py",
   "mimetype": "text/x-python",
   "name": "python",
   "nbconvert_exporter": "python",
   "pygments_lexer": "ipython3",
   "version": "3.10.15"
  }
 },
 "nbformat": 4,
 "nbformat_minor": 5
}
