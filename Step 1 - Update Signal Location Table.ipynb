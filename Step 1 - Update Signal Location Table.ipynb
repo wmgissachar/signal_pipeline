{
 "cells": [
  {
   "cell_type": "code",
   "execution_count": 1,
   "id": "07de577b-81e8-439b-b239-9afd86e4fc33",
   "metadata": {
    "tags": []
   },
   "outputs": [],
   "source": [
    "from BaselineSignals import BaselineSignals \n",
    "from Database import Database"
   ]
  },
  {
   "cell_type": "code",
   "execution_count": 2,
   "id": "a87339a1-7607-4380-bdf7-2b8bff51c124",
   "metadata": {
    "tags": []
   },
   "outputs": [],
   "source": [
    "from google.cloud import bigquery\n",
    "import pandas as pd\n",
    "\n",
    "def get_unique_signals_from_daily_ic(project_id='issachar-feature-library', \n",
    "                                     dataset_name='wmg', \n",
    "                                     table_name='daily_ic2'):\n",
    "    \"\"\"\n",
    "    Fetch all unique signal values from the 'signal' column in the daily_ic table.\n",
    "    \n",
    "    Args:\n",
    "        project_id (str): The Google Cloud project ID.\n",
    "        dataset_name (str): The BigQuery dataset name.\n",
    "        table_name (str): The BigQuery table name containing the daily IC results.\n",
    "    \n",
    "    Returns:\n",
    "        list: A list of unique signal names.\n",
    "    \"\"\"\n",
    "    # Create a BigQuery client.\n",
    "    client = bigquery.Client(project=project_id)\n",
    "    \n",
    "    # Construct the query to select distinct signals.\n",
    "    query = f\"\"\"\n",
    "    SELECT DISTINCT signal\n",
    "    FROM `{project_id}.{dataset_name}.{table_name}`\n",
    "    \"\"\"\n",
    "    \n",
    "    # Execute the query.\n",
    "    query_job = client.query(query)\n",
    "    \n",
    "    # Convert the result to a pandas DataFrame.\n",
    "    df = query_job.to_dataframe()\n",
    "    \n",
    "    # Return the unique signals as a list.\n",
    "    return df['signal'].unique().tolist()\n",
    "\n",
    "invalid = ['localPrice', 'lastPrice', 'isin', 'si', 'smi_id', 't1_beta_adjusted_log_returns', 'float', 'invest', 'invest_cap', 'invest_cf', 'isin', 'lastPrice', 'localPrice', 'market_sector_des', 't1_beta_adjusted_log_returns', 'ticker_name', 'universe_start_date', 'sm_id']\n",
    "all_signals = get_unique_signals_from_daily_ic()\n",
    "all_signals = list(set( [x for x in all_signals if not x in invalid] ))"
   ]
  },
  {
   "cell_type": "code",
   "execution_count": 4,
   "id": "1d536bac-bd8f-4555-b7d9-55618dab621c",
   "metadata": {
    "tags": []
   },
   "outputs": [
    {
     "name": "stderr",
     "output_type": "stream",
     "text": [
      "100%|██████████| 847/847 [30:45<00:00,  2.18s/it]\n"
     ]
    }
   ],
   "source": [
    "from tqdm import tqdm\n",
    "\n",
    "bs = BaselineSignals()\n",
    "db = Database()\n",
    "\n",
    "for s in tqdm(all_signals):\n",
    "    result = bs.run(s)\n",
    "    db.get_or_upload_signal(result)\n",
    "    # print(s, \"=>\", result)"
   ]
  },
  {
   "cell_type": "code",
   "execution_count": null,
   "id": "61e38724-2d5b-4b86-a9ce-6e765bb1a671",
   "metadata": {},
   "outputs": [],
   "source": []
  }
 ],
 "metadata": {
  "environment": {
   "kernel": "conda-base-py",
   "name": "workbench-notebooks.m126",
   "type": "gcloud",
   "uri": "us-docker.pkg.dev/deeplearning-platform-release/gcr.io/workbench-notebooks:m126"
  },
  "kernelspec": {
   "display_name": "Python 3 (ipykernel) (Local)",
   "language": "python",
   "name": "conda-base-py"
  },
  "language_info": {
   "codemirror_mode": {
    "name": "ipython",
    "version": 3
   },
   "file_extension": ".py",
   "mimetype": "text/x-python",
   "name": "python",
   "nbconvert_exporter": "python",
   "pygments_lexer": "ipython3",
   "version": "3.10.15"
  }
 },
 "nbformat": 4,
 "nbformat_minor": 5
}
